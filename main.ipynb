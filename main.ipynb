{
 "cells": [
  {
   "cell_type": "markdown",
   "id": "3bdcb23e",
   "metadata": {},
   "source": [
    "## Take two integer values from the user and print the greatest among them."
   ]
  },
  {
   "cell_type": "code",
   "execution_count": 4,
   "id": "14155b90",
   "metadata": {},
   "outputs": [
    {
     "name": "stdout",
     "output_type": "stream",
     "text": [
      "Enter the first value:: 8\n",
      "Enter the secound value:: 10\n",
      "10\n"
     ]
    }
   ],
   "source": [
    "v1 = int(input(\"Enter the first value:: \"))\n",
    "v2 = int(input(\"Enter the secound value:: \"))\n",
    "if v1 > v2:\n",
    "    print(v1)\n",
    "elif v2 > v1:\n",
    "    print(v2)\n",
    "else:\n",
    "    print(\"both are equal\")\n"
   ]
  },
  {
   "cell_type": "markdown",
   "id": "f8d7245a",
   "metadata": {},
   "source": [
    "## ECU has the following rules for its grading system:\n",
    "Below 25 - F\n",
    "25 to 45 - E\n",
    "45 to 50 - D\n",
    "50 to 60 - C\n",
    "60 to 80 - B\n",
    "Above 80 - A\n",
    "Ask the student to enter marks & print the corresponding grade\n"
   ]
  },
  {
   "cell_type": "code",
   "execution_count": 24,
   "id": "05df97fa",
   "metadata": {},
   "outputs": [
    {
     "name": "stdout",
     "output_type": "stream",
     "text": [
      "Enter ur marks100\n",
      "Ur grade is:: A\n"
     ]
    }
   ],
   "source": [
    "grade = int(input(\"Enter ur marks\"))\n",
    "if grade >= 0:\n",
    "    if grade < 25:\n",
    "        print(\"Ur grade is:: F\")\n",
    "    elif grade <= 45:\n",
    "        print(\"Ur grade is:: E\")\n",
    "    elif grade <= 50:\n",
    "        print(\"Ur grade is:: D\")\n",
    "    elif grade <= 60:\n",
    "        print(\"Ur grade is:: C\")\n",
    "    elif grade <= 80:\n",
    "        print(\"Ur grade is:: B\")\n",
    "    elif grade > 80:\n",
    "        print(\"Ur grade is:: A\")\n",
    "else:\n",
    "    print(\"enter valid value\")"
   ]
  },
  {
   "cell_type": "markdown",
   "id": "de16fcf6",
   "metadata": {},
   "source": [
    "## Take the age of 3 people as input from the user and determine who is the oldest and youngest among them."
   ]
  },
  {
   "cell_type": "code",
   "execution_count": 3,
   "id": "ea70e77f",
   "metadata": {
    "scrolled": true
   },
   "outputs": [
    {
     "name": "stdout",
     "output_type": "stream",
     "text": [
      "user1 Enter ur age:: 12\n",
      "user2 Enter ur age:: 6\n",
      "user3 Enter ur age:: 3\n",
      "User1 is the oldest\n",
      "User3 is the youngest\n"
     ]
    }
   ],
   "source": [
    "u1 = int(input(\"user1 Enter ur age:: \"))\n",
    "if u1 <= 0:\n",
    "    u1 = int(input(\"Enter valid age\"))\n",
    "u2 = int(input(\"user2 Enter ur age:: \"))\n",
    "if u1 <= 0:\n",
    "    u1 = int(input(\"Enter valid age\"))\n",
    "u3 = int(input(\"user3 Enter ur age:: \"))\n",
    "if u1 <= 0:\n",
    "    u1 = int(input(\"Enter valid age\"))\n",
    "\n",
    "\n",
    "if u1 > u2 and u1 >u3:\n",
    "    print(\"User1 is the oldest\")\n",
    "    if u2> u3:\n",
    "        print(\"User3 is the youngest\")\n",
    "    elif u2< u3:\n",
    "        print(\"User2 is the youngest\")\n",
    "    else: \n",
    "        print(\"User2 and User3 have the same age\")\n",
    "elif u1 > u2 and u1 == u3:\n",
    "    print(\"User1 and User3 have the same age and they are older\")\n",
    "    print(\"User2 is the youngest\")\n",
    "elif u1 > u3 and u1 == u2:\n",
    "    print(\"User1 and User2 have the same age and they are older\")\n",
    "    print(\"User3 is the youngest\")\n",
    "elif u2 > u1 and u2 > u3:\n",
    "    print(\"User2 is the oldest\")\n",
    "    if(u1 > u3):\n",
    "        print(\"User3 is the youngest\")\n",
    "    elif(u1 < u3):\n",
    "        print(\"User1 is the youngest\")\n",
    "    else:\n",
    "        print(\"User1 and User3 have the same age\")\n",
    "elif(u2 > u1 and u2 == u3):\n",
    "    print(\"User2 and User3 have the same age and they are older\")\n",
    "    print(\"User1 is the youngest\")\n",
    "elif(u3 > u1 and u3 > u2):\n",
    "    print(\"User3 is the oldest\")\n",
    "    if u1 > u2:\n",
    "        print(\"User2 is the youngest\")\n",
    "    elif u2 > u1:\n",
    "        print(\"User1 is the youngest\")\n",
    "    else:\n",
    "        print(\"User1 and User2 have the same age\")\n"
   ]
  },
  {
   "cell_type": "code",
   "execution_count": null,
   "id": "9f1fc7fc",
   "metadata": {},
   "outputs": [],
   "source": []
  },
  {
   "cell_type": "code",
   "execution_count": null,
   "id": "78014a9f",
   "metadata": {},
   "outputs": [],
   "source": []
  }
 ],
 "metadata": {
  "kernelspec": {
   "display_name": "Python 3",
   "language": "python",
   "name": "python3"
  },
  "language_info": {
   "codemirror_mode": {
    "name": "ipython",
    "version": 3
   },
   "file_extension": ".py",
   "mimetype": "text/x-python",
   "name": "python",
   "nbconvert_exporter": "python",
   "pygments_lexer": "ipython3",
   "version": "3.8.8"
  }
 },
 "nbformat": 4,
 "nbformat_minor": 5
}
